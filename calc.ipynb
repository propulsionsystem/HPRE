{
 "cells": [
  {
   "cell_type": "code",
   "execution_count": 1,
   "metadata": {},
   "outputs": [],
   "source": [
    "import numpy as np\n",
    "import matplotlib.pyplot as plt\n",
    "import math"
   ]
  },
  {
   "cell_type": "code",
   "execution_count": 2,
   "metadata": {},
   "outputs": [],
   "source": [
    "def exit_velocity(P1, Pe, R, M, T1, k):\n",
    "    \"\"\"\n",
    "    Calculate the exit velocity of a gas.\n",
    "\n",
    "    Parameters:\n",
    "    P1 (float): Initial pressure\n",
    "    Pe (float): Exit pressure\n",
    "    R (float): Specific gas constant\n",
    "    M (float): Molar mass of the gas\n",
    "    T1 (float): Initial temperature in Kelvin\n",
    "    k (float): Specific heat ratio\n",
    "\n",
    "    Returns:\n",
    "    float: Exit velocity of the gas\n",
    "    \"\"\"\n",
    "    # Validate inputs\n",
    "    if P1 <= 0 or Pe <= 0 or T1 <= 0 or R <= 0 or M <= 0 or k <= 1:\n",
    "        raise ValueError(\"All input parameters must be positive and k must be greater than 1.\")\n",
    "\n",
    "    # Calculate exit velocity using the formula\n",
    "    Vexh = math.sqrt(2 * (k / (k - 1)) * (R / M) * T1 * (1 - (Pe / P1) ** ((k - 1) / k)))\n",
    "    return Vexh"
   ]
  },
  {
   "cell_type": "code",
   "execution_count": 3,
   "metadata": {},
   "outputs": [],
   "source": [
    "def chamber_pressure(mdot, At, R, M, T1, k):\n",
    "    \"\"\"\n",
    "    Calculate the chamber pressure based on the given parameters.\n",
    "\n",
    "    Parameters:\n",
    "    mdot (float): Mass flow rate\n",
    "    At (float): Throat area\n",
    "    R (float): Specific gas constant\n",
    "    M (float): Molar mass\n",
    "    T1 (float): Temperature in Kelvin\n",
    "    k (float): Specific heat ratio\n",
    "\n",
    "    Returns:\n",
    "    float: Chamber pressure\n",
    "    \"\"\"\n",
    "    # Calculate the term inside the square root\n",
    "    sqrt_term = math.sqrt(k * R * T1 / M)\n",
    "    \n",
    "    # Calculate the denominator term\n",
    "    denominator = At * k * math.sqrt((2 / (k + 1)) ** ((k + 1) / (k - 1)))\n",
    "\n",
    "    # Calculate chamber pressure\n",
    "    Pch = mdot * sqrt_term / denominator\n",
    "    \n",
    "    return Pch"
   ]
  },
  {
   "cell_type": "code",
   "execution_count": 4,
   "metadata": {},
   "outputs": [],
   "source": [
    "def calculate_thrust(P1, Pe, At, k):\n",
    "    \"\"\"\n",
    "    Calculate the thrust based on the given parameters.\n",
    "\n",
    "    Parameters:\n",
    "    P1 (float): Initial pressure.\n",
    "    Pe (float): Exit pressure.\n",
    "    At (float): Throat area.\n",
    "    k (float): Specific heat ratio.\n",
    "\n",
    "    Returns:\n",
    "    float: Calculated thrust force.\n",
    "    \"\"\"\n",
    "    # Calculate the term involving pressures\n",
    "    pressure_ratio = Pe / P1\n",
    "    term1 = (k * k) / (k - 1)\n",
    "    term2 = (2 / (k + 1)) ** ((k + 1) / (k - 1))\n",
    "    \n",
    "    # Calculate thrust force using the derived formula\n",
    "    thrust_force = At * P1 * math.sqrt(2 * term1 * term2 * (1 - pressure_ratio ** ((k - 1) / k)))\n",
    "    \n",
    "    return thrust_force"
   ]
  },
  {
   "cell_type": "code",
   "execution_count": 5,
   "metadata": {},
   "outputs": [
    {
     "name": "stdout",
     "output_type": "stream",
     "text": [
      "Average Isp = 233.56405869370255\n",
      "Fuel mass = 0.6449666425475493\n",
      "Burn time = 19.9999\n",
      "Average thrust = 2139.247427844338\n",
      "Oxidiser to fuel ratio = 28.996715699157992\n",
      "Radius of throat in cm = 2.5231325220201604\n"
     ]
    }
   ],
   "source": [
    "# Constants\n",
    "sqrt = math.sqrt\n",
    "g = 9.81  # Acceleration due to gravity (m/s^2)\n",
    "R = 8.314  # Universal gas constant (J/(mol*K))\n",
    "M = 18 / 1000  # Molecular mass of exhaust (kg/mol)\n",
    "\n",
    "# Assumed parameters\n",
    "params = {\n",
    "    'a': 0.00002,  # assumed\n",
    "    'n': 0.8,  # assumed\n",
    "    'rho_p': 900,  # kg/m^3\n",
    "    'k': 1.13,  # Combustion products, assumed constant\n",
    "    'T1': 3000,  # Temperature of combustion chamber (K)\n",
    "    'mox': 0.9,  # Initial mass flow rate of oxidiser (kg/s)\n",
    "    'At': 0.002,  # Area of throat (m^2)\n",
    "    'Pe': 101325,  # Exit pressure (Pa)\n",
    "    'rint': 0.065,  # Internal radius of grain (m)\n",
    "    'rext': 0.080,  # External radius of grain (m)\n",
    "    'L': 0.1,  # Length of combustion chamber (m)\n",
    "    'dt': 0.0001,  # Time step (s)\n",
    "    'tb': 20  # Total burn time (s)\n",
    "}\n",
    "\n",
    "# Derived parameters\n",
    "ra = sqrt(params['At'] / np.pi)  # Radius of throat (m)\n",
    "m_fuel = params['rho_p'] * np.pi * (params['rext']**2 - params['rint']**2) * params['L']  # Total fuel mass (kg)\n",
    "\n",
    "# Initialize variables\n",
    "mf = 0  # Fuel mass accumulated\n",
    "tOF = 0  # Oxidiser to fuel ratio time\n",
    "t_values = []  # Time values for tracking\n",
    "F_values = []  # Thrust values for tracking\n",
    "P1_values = []  # Chamber pressure values for tracking\n",
    "\n",
    "# Time loop\n",
    "for t in np.arange(0, params['tb'], params['dt']):\n",
    "    G = params['mox'] / (np.pi * params['rint']**2)  # Mass flux\n",
    "    dr = params['a'] * (G ** params['n']) * params['dt']  # Change in radius\n",
    "    dmox = params['mox'] * params['dt']  # Change in oxidiser mass\n",
    "    dmf = params['rho_p'] * 2 * np.pi * params['rint'] * params['L'] * dr  # Change in fuel mass\n",
    "    dmt = dmox + dmf  # Total mass change\n",
    "    mt = dmt / params['dt']  # Total mass flow rate\n",
    "    tOF += dmox / dmf * params['dt']  # Update oxidiser to fuel ratio\n",
    "    \n",
    "    mf += dmf  # Accumulate fuel mass\n",
    "    if mf >= m_fuel:\n",
    "        break  # Stop if fuel mass is sufficient\n",
    "\n",
    "    # Update throat radius\n",
    "    params['rint'] += dr\n",
    "    t_values.append(t)\n",
    "\n",
    "    # Calculate chamber pressure and thrust\n",
    "    P1 = chamber_pressure(mt, params['At'], R, M, params['T1'], params['k'])\n",
    "    P1_values.append(P1)\n",
    "    \n",
    "    Ve = exit_velocity(P1, params['Pe'], R, M, params['T1'], params['k'])\n",
    "    Isp = Ve / g  # Specific impulse\n",
    "    F = calculate_thrust(P1, params['Pe'], params['At'], params['k'])\n",
    "    F_values.append(F)\n",
    "\n",
    "# Output results\n",
    "print('Average Isp =', np.mean(Isp))\n",
    "print('Fuel mass =', mf)\n",
    "print('Burn time =', t)\n",
    "print('Average thrust =', np.mean(F_values))\n",
    "print('Oxidiser to fuel ratio =', tOF / t)\n",
    "print(\"Radius of throat in cm =\", ra * 100)"
   ]
  },
  {
   "cell_type": "code",
   "execution_count": 6,
   "metadata": {},
   "outputs": [
    {
     "data": {
      "image/png": "[encoded data removed]",
      "text/plain": [
       "<Figure size 432x288 with 1 Axes>"
      ]
     },
     "metadata": {
      "needs_background": "light"
     },
     "output_type": "display_data"
    }
   ],
   "source": [
    "# Define variables with descriptive names\n",
    "time_values = np.linspace(0, t, len(P1_values))\n",
    "pressure_values = P1_values\n",
    "\n",
    "# Create the plot\n",
    "plt.plot(time_values, pressure_values)\n",
    "\n",
    "# Set plot limits\n",
    "plt.xlim(0, max(time_values) + 1)\n",
    "plt.ylim(0, max(pressure_values) * 2)\n",
    "\n",
    "# Show the plot (assuming this is what you want)\n",
    "plt.show()"
   ]
  },
  {
   "cell_type": "code",
   "execution_count": 7,
   "metadata": {},
   "outputs": [
    {
     "data": {
      "image/png": "[encoded data removed]",
      "text/plain": [
       "<Figure size 720x432 with 1 Axes>"
      ]
     },
     "metadata": {
      "needs_background": "light"
     },
     "output_type": "display_data"
    }
   ],
   "source": [
    "# Generate time values\n",
    "size = len(F_values)\n",
    "t_values = np.linspace(0, params['tb'], size)\n",
    "\n",
    "# Create the plot\n",
    "plt.figure(figsize=(10, 6))  # Set the figure size for better visibility\n",
    "plt.plot(t_values, F_values, label='Thrust Curve', color='blue')  # Added label and color\n",
    "\n",
    "# Set the limits for the axes\n",
    "plt.xlim(0, max(t_values) + 1)\n",
    "plt.ylim(0, max(F_values) * 1.2)\n",
    "\n",
    "# Add titles and labels\n",
    "plt.title('Thrust Curve over Time')  # Add a title\n",
    "plt.xlabel('Time (s)')  # Label for x-axis\n",
    "plt.ylabel('Thrust (N)')  # Label for y-axis\n",
    "\n",
    "# Add a grid for better readability\n",
    "plt.grid(True)\n",
    "\n",
    "# Show the legend\n",
    "plt.legend()\n",
    "\n",
    "# Display the plot\n",
    "plt.show()"
   ]
  }
 ],
 "metadata": {
  "kernelspec": {
   "display_name": "Python 3",
   "language": "python",
   "name": "python3"
  },
  "language_info": {
   "codemirror_mode": {
    "name": "ipython",
    "version": 3
   },
   "file_extension": ".py",
   "mimetype": "text/x-python",
   "name": "python",
   "nbconvert_exporter": "python",
   "pygments_lexer": "ipython3",
   "version": "3.8.10"
  }
 },
 "nbformat": 4,
 "nbformat_minor": 2
}
